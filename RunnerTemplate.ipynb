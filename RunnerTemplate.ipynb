{
 "cells": [
  {
   "cell_type": "code",
   "execution_count": 1,
   "id": "255558b2",
   "metadata": {},
   "outputs": [
    {
     "ename": "NameError",
     "evalue": "name 'logging' is not defined",
     "output_type": "error",
     "traceback": [
      "\u001b[0;31m---------------------------------------------------------------------------\u001b[0m",
      "\u001b[0;31mNameError\u001b[0m                                 Traceback (most recent call last)",
      "Cell \u001b[0;32mIn[1], line 1\u001b[0m\n\u001b[0;32m----> 1\u001b[0m \u001b[38;5;28;01mfrom\u001b[39;00m\u001b[38;5;250m \u001b[39m\u001b[38;5;21;01mExperimentClass\u001b[39;00m\u001b[38;5;250m \u001b[39m\u001b[38;5;28;01mimport\u001b[39;00m ZynqRfsoc\n",
      "File \u001b[0;32m~/Coding/QCoDeSForQICK/ExperimentClass.py:28\u001b[0m\n\u001b[1;32m     25\u001b[0m \u001b[38;5;28;01mimport\u001b[39;00m\u001b[38;5;250m \u001b[39m\u001b[38;5;21;01mqick\u001b[39;00m\n\u001b[1;32m     27\u001b[0m \u001b[38;5;66;03m#for logging\u001b[39;00m\n\u001b[0;32m---> 28\u001b[0m log \u001b[38;5;241m=\u001b[39m \u001b[43mlogging\u001b[49m\u001b[38;5;241m.\u001b[39mgetLogger(__ZynqRfsoc__)\n\u001b[1;32m     30\u001b[0m \u001b[38;5;66;03m# Xilinx ZYNQ RFSoC\u001b[39;00m\n\u001b[1;32m     31\u001b[0m \u001b[38;5;28;01mclass\u001b[39;00m\u001b[38;5;250m \u001b[39m\u001b[38;5;21;01mZynqRfsoc\u001b[39;00m(VisaInstrument):\n",
      "\u001b[0;31mNameError\u001b[0m: name 'logging' is not defined"
     ]
    }
   ],
   "source": [
    "from ExperimentClass import ZynqRfsoc"
   ]
  },
  {
   "cell_type": "code",
   "execution_count": null,
   "id": "6989a3ee",
   "metadata": {},
   "outputs": [],
   "source": [
    "# edit these to run\n",
    "NAME = \"\"\n",
    "IP_ADDR = \"\"\n",
    "CONFIG_PATH = \"\""
   ]
  },
  {
   "cell_type": "code",
   "execution_count": null,
   "id": "21d86062",
   "metadata": {},
   "outputs": [],
   "source": [
    "fpga = QickFpgaInstrument(name=NAME, ip_addr=IP_ADDRESS, config_path=CONFIG_PATH)\n",
    "\n",
    "fpga.perform_test_pulse()  # Run a basic test\n",
    "\n",
    "fpga.close() "
   ]
  }
 ],
 "metadata": {
  "kernelspec": {
   "display_name": ".venv",
   "language": "python",
   "name": "python3"
  },
  "language_info": {
   "codemirror_mode": {
    "name": "ipython",
    "version": 3
   },
   "file_extension": ".py",
   "mimetype": "text/x-python",
   "name": "python",
   "nbconvert_exporter": "python",
   "pygments_lexer": "ipython3",
   "version": "3.9.6"
  }
 },
 "nbformat": 4,
 "nbformat_minor": 5
}
