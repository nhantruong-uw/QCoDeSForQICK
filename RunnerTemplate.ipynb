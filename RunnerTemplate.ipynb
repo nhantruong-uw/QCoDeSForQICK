{
 "cells": [
  {
   "cell_type": "code",
   "execution_count": 1,
   "id": "255558b2",
   "metadata": {},
   "outputs": [],
   "source": [
    "from ExperimentClass import ZynqRfsoc\n",
    "from qcodes.dataset.measurements import Measurement\n",
    "from qcodes.dataset import initialise_or_create_database_at, load_or_create_experiment\n"
   ]
  },
  {
   "cell_type": "code",
   "execution_count": 2,
   "id": "6989a3ee",
   "metadata": {},
   "outputs": [],
   "source": [
    "# edit these to run\n",
    "NAME = \"\"\n",
    "IP_ADDR = \"\"\n",
    "CONFIG_PATH = \"\""
   ]
  },
  {
   "cell_type": "code",
   "execution_count": null,
   "id": "21d86062",
   "metadata": {},
   "outputs": [],
   "source": [
    "# Init instrument\n",
    "fpga = ZynqRfsoc(NAME, IP_ADDR, CONFIG_PATH)\n",
    "\n",
    "# add new parameter\n",
    "# fpga.add_parameter(__param__)\n",
    "\n",
    "# Run an experiment and log\n",
    "# change name as appropriate\n",
    "# initialise_or_create_database_at(\"qcodes_experiments.db\")\n",
    "# exp = load_or_create_experiment(\"qick_exp\", \"zcu216_test\")\n",
    "\n",
    "# measures the given parameter\n",
    "# meas = Measurement()\n",
    "# meas.register_parameter(__param__)\n",
    "\n",
    "\n",
    "# run experiment\n",
    "# with meas.run() as datasaver:\n",
    "#     datasaver.add_result((fpga.dac_freq, fpga.dac_freq()))\n",
    "\n",
    "# fpga.run_test()"
   ]
  }
 ],
 "metadata": {
  "kernelspec": {
   "display_name": ".venv",
   "language": "python",
   "name": "python3"
  },
  "language_info": {
   "codemirror_mode": {
    "name": "ipython",
    "version": 3
   },
   "file_extension": ".py",
   "mimetype": "text/x-python",
   "name": "python",
   "nbconvert_exporter": "python",
   "pygments_lexer": "ipython3",
   "version": "3.9.6"
  }
 },
 "nbformat": 4,
 "nbformat_minor": 5
}
